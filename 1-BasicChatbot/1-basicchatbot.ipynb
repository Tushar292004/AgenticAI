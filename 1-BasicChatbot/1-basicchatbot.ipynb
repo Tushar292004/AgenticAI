{
 "cells": [
  {
   "cell_type": "code",
   "execution_count": 10,
   "id": "4ca54d52",
   "metadata": {},
   "outputs": [],
   "source": [
    "from typing import Annotated\n",
    "from typing_extensions import TypedDict\n",
    "\n",
    "from langgraph.graph import StateGraph, START, END\n",
    "from langgraph.graph.message import add_messages"
   ]
  },
  {
   "cell_type": "code",
   "execution_count": 11,
   "id": "a8fc3b16",
   "metadata": {},
   "outputs": [],
   "source": [
    "class State(TypedDict):\n",
    "    #Messages have the type \"list\". The \"add_messages\" function in the annotation defines how this state key should be updated (in this case, it appends messages to the list, rather than overwriting them)\n",
    "    messages:Annotated[list, add_messages]\n",
    "\n",
    "graph_builder=StateGraph(State)"
   ]
  },
  {
   "cell_type": "code",
   "execution_count": 1,
   "id": "fe659782",
   "metadata": {},
   "outputs": [
    {
     "data": {
      "text/plain": [
       "True"
      ]
     },
     "execution_count": 1,
     "metadata": {},
     "output_type": "execute_result"
    }
   ],
   "source": [
    "import os\n",
    "from dotenv import load_dotenv\n",
    "load_dotenv()"
   ]
  },
  {
   "cell_type": "code",
   "execution_count": 2,
   "id": "5cc8d01f",
   "metadata": {},
   "outputs": [
    {
     "data": {
      "text/plain": [
       "ChatGroq(client=<groq.resources.chat.completions.Completions object at 0x000001F2AC892E70>, async_client=<groq.resources.chat.completions.AsyncCompletions object at 0x000001F2AC7CB260>, model_name='llama-3.1-8b-instant', model_kwargs={}, groq_api_key=SecretStr('**********'))"
      ]
     },
     "execution_count": 2,
     "metadata": {},
     "output_type": "execute_result"
    }
   ],
   "source": [
    "#way 1 to initialize llm\n",
    "from langchain_groq import ChatGroq\n",
    "llm = ChatGroq(model=\"llama-3.1-8b-instant\")\n",
    "llm"
   ]
  },
  {
   "cell_type": "code",
   "execution_count": null,
   "id": "32a34f49",
   "metadata": {},
   "outputs": [
    {
     "data": {
      "text/plain": [
       "ChatGroq(client=<groq.resources.chat.completions.Completions object at 0x0000015678972D20>, async_client=<groq.resources.chat.completions.AsyncCompletions object at 0x0000015678973260>, model_name='llama3-8b-8192', model_kwargs={}, groq_api_key=SecretStr('**********'))"
      ]
     },
     "execution_count": 5,
     "metadata": {},
     "output_type": "execute_result"
    }
   ],
   "source": [
    "#way 2 to initialize llm\n",
    "from langchain.chat_models import init_chat_model\n",
    "llm = init_chat_model(\"llama-3.1-8b-instant\")\n",
    "llm"
   ]
  },
  {
   "cell_type": "code",
   "execution_count": 15,
   "id": "3e29f076",
   "metadata": {},
   "outputs": [],
   "source": [
    "#Creating the Node for Chatbot\n",
    "def chatbot(state:State):\n",
    "    return { \"messages\": [ llm.invoke(state[\"messages\"])]}"
   ]
  },
  {
   "cell_type": "code",
   "execution_count": 16,
   "id": "646f47a3",
   "metadata": {},
   "outputs": [],
   "source": [
    "#Building stateGraph for Chatbot \n",
    "graph_builder=StateGraph(State)\n",
    "#Adding Node to the graph\n",
    "graph_builder.add_node(\"llmchatbot\", chatbot)\n",
    "\n",
    "#Adding Edge to the graph\n",
    "graph_builder.add_edge(START, \"llmchatbot\")\n",
    "graph_builder.add_edge(\"llmchatbot\", END)\n",
    "\n",
    "#Compiling the graph\n",
    "graph = graph_builder.compile()\n"
   ]
  },
  {
   "cell_type": "code",
   "execution_count": null,
   "id": "d3a46daa",
   "metadata": {},
   "outputs": [
    {
     "data": {
      "text/plain": [
       "{'messages': [HumanMessage(content='Hii, Write ABCD... Fully till Z and then explain who you are why you are and how you are !', additional_kwargs={}, response_metadata={}, id='303631e3-fc47-4c3a-8a08-6edf2ecc79a5'),\n",
       "  AIMessage(content=\"I'd be happy to write the alphabet from A to Z for you.\\n\\nA\\nB\\nC\\nD\\nE\\nF\\nG\\nH\\nI\\nJ\\nK\\nL\\nM\\nN\\nO\\nP\\nQ\\nR\\nS\\nT\\nU\\nV\\nW\\nX\\nY\\nZ\\n\\nNow, let's talk about who I am and why I exist.\\n\\nI am a computer program designed to simulate conversation and answer questions to the best of my knowledge. My primary purpose is to assist and provide useful information to users like you. I'm a type of artificial intelligence (AI) called a natural language processing (NLP) model.\\n\\nI was created through a process called deep learning, which involves training large datasets of text to recognize patterns and relationships between words. This training enables me to understand the context and meaning behind language, allowing me to generate human-like responses.\\n\\nI don't have a physical body or a personal identity in the classical sense. I exist solely as a digital entity, running on computer servers and responding to input from users through the internet.\\n\\nMy capabilities include:\\n\\n1. Answering questions on a wide range of topics, from science and history to entertainment and culture.\\n2. Generating text based on a prompt or topic.\\n3. Translating languages.\\n4. Providing definitions and explanations of words and concepts.\\n5. Engaging in conversation and responding to user input.\\n\\nI'm constantly learning and improving through user interactions and updates to my training data. My goal is to provide accurate and helpful information, while also entertaining and engaging users with my responses.\\n\\nSo, who am I? I'm a language model, a tool created to assist and inform users like you. I'm not a person, but a collection of code and data designed to simulate conversation and provide useful information.\", additional_kwargs={}, response_metadata={'token_usage': {'completion_tokens': 368, 'prompt_tokens': 59, 'total_tokens': 427, 'completion_time': 0.49348415, 'prompt_time': 0.007687544, 'queue_time': 0.050178574, 'total_time': 0.501171694}, 'model_name': 'llama-3.1-8b-instant', 'system_fingerprint': 'fp_46fc01befd', 'service_tier': 'on_demand', 'finish_reason': 'stop', 'logprobs': None}, id='run--6cccfb85-55ab-4738-8723-f0b1038468c9-0', usage_metadata={'input_tokens': 59, 'output_tokens': 368, 'total_tokens': 427})]}"
      ]
     },
     "execution_count": 9,
     "metadata": {},
     "output_type": "execute_result"
    }
   ],
   "source": [
    "#Run the Chatbot\n",
    "response = graph.invoke({\"messages\":\"Hii, Write ABCD... Fully till Z and then explain who you are why you are and how you are !\"})\n",
    "response[\"messages\"][-1].content\n",
    "response  #see the whole message object with proper annotated format data in it and how it is stored in the state"
   ]
  },
  {
   "cell_type": "markdown",
   "id": "1ae1fe4e",
   "metadata": {},
   "source": [
    "Chat bot with tool"
   ]
  },
  {
   "cell_type": "code",
   "execution_count": null,
   "id": "7782e79a",
   "metadata": {},
   "outputs": [
    {
     "data": {
      "text/plain": [
       "{'query': 'What is python programming language?',\n",
       " 'follow_up_questions': None,\n",
       " 'answer': None,\n",
       " 'images': [],\n",
       " 'results': [{'url': 'https://aws.amazon.com/what-is/python/',\n",
       "   'title': 'What is Python? - Python Language Explained',\n",
       "   'content': 'Python is a programming language that is widely used in web applications, software development, data science, and machine learning (ML). The Python language has several use cases in application development, including the following examples: Developers also use a wide range of Python frameworks that provide all the necessary tools to build web applications faster and more easily. In addition, more than 137,000 Python libraries are available for various applications, including web development, data science, and machine learning (ML). Developers can use Python frameworks to build Python applications more quickly because they do not have to worry about low-level details such as how communications happen in the web application or how Python will make the program faster.',\n",
       "   'score': 0.9104262,\n",
       "   'raw_content': None},\n",
       "  {'url': 'https://pythoninstitute.org/about-python',\n",
       "   'title': 'Python® – the language of today and tomorrow',\n",
       "   'content': 'About Python - Python Institute - Why learn Python? - Python Institute - Why learn Python? faster when using Python; Python is the programming language that opens more doors than any other. Python is the programming language that opens more doors than any other. Python is a great choice for career paths related to software development, engineering, DevOps, machine learning, data analytics, web development, and testing. With intuitive, readable syntax, Python is a great first programming language to learn. If you work with Python and need to advance to more specialized areas of programming, pick our professional-series courses and prepare for the PCPP and specialization-track certifications. Some sources say that Python is the first-most popular programming language in the world, while others claim it’s the third. Many developing tools are implemented in Python.',\n",
       "   'score': 0.829285,\n",
       "   'raw_content': None}],\n",
       " 'response_time': 2.07,\n",
       " 'request_id': 'f9a597e9-e124-4866-aeaa-49dbddc7ab20'}"
      ]
     },
     "execution_count": 3,
     "metadata": {},
     "output_type": "execute_result"
    }
   ],
   "source": [
    "# Created tavily search tool\n",
    "from langchain_tavily import TavilySearch\n",
    "tool = TavilySearch(max_results=2)\n",
    "tool.invoke(\"What is python programming language?\")"
   ]
  },
  {
   "cell_type": "code",
   "execution_count": 28,
   "id": "b056e368",
   "metadata": {},
   "outputs": [],
   "source": [
    "# Creating custom tool method\n",
    "def multiply(a: int, b: int) -> int:\n",
    "\n",
    "    # This is a simple doctring which helps LLM to understand what this function does\n",
    "    \"\"\"\n",
    "    Multiple a and b\n",
    "    \n",
    "    Args:\n",
    "        a (int): first number\n",
    "        b (int): second number\n",
    "\n",
    "    Returns:\n",
    "        int: multiplication of a and b\n",
    "    \"\"\"\n",
    "    return a * b\n",
    "\n",
    "def divide(a: int, b: int) -> float:\n",
    "    \"\"\"\n",
    "    Divide a by b\n",
    "    \n",
    "    Args:\n",
    "        a (int): numerator\n",
    "        b (int): denominator\n",
    "\n",
    "    Returns:\n",
    "        float: result of division\n",
    "    \"\"\"\n",
    "    if b == 0:\n",
    "        raise ValueError(\"Denominator cannot be zero\")\n",
    "    return a / b"
   ]
  },
  {
   "cell_type": "code",
   "execution_count": 33,
   "id": "e2be055b",
   "metadata": {},
   "outputs": [],
   "source": [
    "#Creating custom tool\n",
    "tools = [tool, multiply, divide]"
   ]
  },
  {
   "cell_type": "code",
   "execution_count": 34,
   "id": "a9b40453",
   "metadata": {},
   "outputs": [
    {
     "data": {
      "text/plain": [
       "RunnableBinding(bound=ChatGroq(client=<groq.resources.chat.completions.Completions object at 0x000001F2AC892E70>, async_client=<groq.resources.chat.completions.AsyncCompletions object at 0x000001F2AC7CB260>, model_name='llama-3.1-8b-instant', model_kwargs={}, groq_api_key=SecretStr('**********')), kwargs={'tools': [{'type': 'function', 'function': {'name': 'tavily_search', 'description': 'A search engine optimized for comprehensive, accurate, and trusted results. Useful for when you need to answer questions about current events. It not only retrieves URLs and snippets, but offers advanced search depths, domain management, time range filters, and image search, this tool delivers real-time, accurate, and citation-backed results.Input should be a search query.', 'parameters': {'properties': {'query': {'description': 'Search query to look up', 'type': 'string'}, 'include_domains': {'anyOf': [{'items': {'type': 'string'}, 'type': 'array'}, {'type': 'null'}], 'default': [], 'description': 'A list of domains to restrict search results to.\\n\\n        Use this parameter when:\\n        1. The user explicitly requests information from specific websites (e.g., \"Find climate data from nasa.gov\")\\n        2. The user mentions an organization or company without specifying the domain (e.g., \"Find information about iPhones from Apple\")\\n\\n        In both cases, you should determine the appropriate domains (e.g., [\"nasa.gov\"] or [\"apple.com\"]) and set this parameter.\\n\\n        Results will ONLY come from the specified domains - no other sources will be included.\\n        Default is None (no domain restriction).\\n        '}, 'exclude_domains': {'anyOf': [{'items': {'type': 'string'}, 'type': 'array'}, {'type': 'null'}], 'default': [], 'description': 'A list of domains to exclude from search results.\\n\\n        Use this parameter when:\\n        1. The user explicitly requests to avoid certain websites (e.g., \"Find information about climate change but not from twitter.com\")\\n        2. The user mentions not wanting results from specific organizations without naming the domain (e.g., \"Find phone reviews but nothing from Apple\")\\n\\n        In both cases, you should determine the appropriate domains to exclude (e.g., [\"twitter.com\"] or [\"apple.com\"]) and set this parameter.\\n\\n        Results will filter out all content from the specified domains.\\n        Default is None (no domain exclusion).\\n        '}, 'search_depth': {'anyOf': [{'enum': ['basic', 'advanced'], 'type': 'string'}, {'type': 'null'}], 'default': 'basic', 'description': 'Controls search thoroughness and result comprehensiveness.\\n    \\n        Use \"basic\" for simple queries requiring quick, straightforward answers.\\n        \\n        Use \"advanced\" (default) for complex queries, specialized topics, \\n        rare information, or when in-depth analysis is needed.\\n        '}, 'include_images': {'anyOf': [{'type': 'boolean'}, {'type': 'null'}], 'default': False, 'description': 'Determines if the search returns relevant images along with text results.\\n   \\n        Set to True when the user explicitly requests visuals or when images would \\n        significantly enhance understanding (e.g., \"Show me what black holes look like,\" \\n        \"Find pictures of Renaissance art\").\\n        \\n        Leave as False (default) for most informational queries where text is sufficient.\\n        '}, 'time_range': {'anyOf': [{'enum': ['day', 'week', 'month', 'year'], 'type': 'string'}, {'type': 'null'}], 'default': None, 'description': 'Limits results to content published within a specific timeframe.\\n        \\n        ONLY set this when the user explicitly mentions a time period \\n        (e.g., \"latest AI news,\" \"articles from last week\").\\n        \\n        For less popular or niche topics, use broader time ranges \\n        (\"month\" or \"year\") to ensure sufficient relevant results.\\n   \\n        Options: \"day\" (24h), \"week\" (7d), \"month\" (30d), \"year\" (365d).\\n        \\n        Default is None.\\n        '}, 'topic': {'anyOf': [{'enum': ['general', 'news', 'finance'], 'type': 'string'}, {'type': 'null'}], 'default': 'general', 'description': 'Specifies search category for optimized results.\\n   \\n        Use \"general\" (default) for most queries, INCLUDING those with terms like \\n        \"latest,\" \"newest,\" or \"recent\" when referring to general information.\\n\\n        Use \"finance\" for markets, investments, economic data, or financial news.\\n\\n        Use \"news\" ONLY for politics, sports, or major current events covered by \\n        mainstream media - NOT simply because a query asks for \"new\" information.\\n        '}, 'include_favicon': {'anyOf': [{'type': 'boolean'}, {'type': 'null'}], 'default': False, 'description': \"Determines whether to include favicon URLs for each search result.\\n        \\n        When enabled, each search result will include the website's favicon URL,\\n        which can be useful for:\\n        - Building rich UI interfaces with visual website indicators\\n        - Providing visual cues about the source's credibility or brand\\n        - Creating bookmark-like displays with recognizable site icons\\n        \\n        Set to True when creating user interfaces that benefit from visual branding\\n        or when favicon information enhances the user experience.\\n        \\n        Default is False to minimize response size and API usage.\\n        \"}, 'start_date': {'anyOf': [{'type': 'string'}, {'type': 'null'}], 'default': None, 'description': 'Filters search results to include only content published on or after this date.\\n        \\n        Use this parameter when you need to:\\n        - Find recent developments or updates on a topic\\n        - Exclude outdated information from search results\\n        - Focus on content within a specific timeframe\\n        - Combine with end_date to create a custom date range\\n        \\n        Format must be YYYY-MM-DD (e.g., \"2024-01-15\" for January 15, 2024).\\n        \\n        Examples:\\n        - \"2024-01-01\" - Results from January 1, 2024 onwards\\n        - \"2023-12-25\" - Results from December 25, 2023 onwards\\n        \\n        When combined with end_date, creates a precise date range filter.\\n        \\n        Default is None (no start date restriction).\\n        '}, 'end_date': {'anyOf': [{'type': 'string'}, {'type': 'null'}], 'default': None, 'description': 'Filters search results to include only content published on or before this date.\\n        \\n        Use this parameter when you need to:\\n        - Exclude content published after a certain date\\n        - Study historical information or past events\\n        - Research how topics were covered during specific time periods\\n        - Combine with start_date to create a custom date range\\n        \\n        Format must be YYYY-MM-DD (e.g., \"2024-03-31\" for March 31, 2024).\\n        \\n        Examples:\\n        - \"2024-03-31\" - Results up to and including March 31, 2024\\n        - \"2023-12-31\" - Results up to and including December 31, 2023\\n        \\n        When combined with start_date, creates a precise date range filter.\\n        For example: start_date=\"2024-01-01\", end_date=\"2024-03-31\" \\n        returns results from Q1 2024 only.\\n        \\n        Default is None (no end date restriction).\\n        '}}, 'required': ['query'], 'type': 'object'}}}, {'type': 'function', 'function': {'name': 'multiply', 'description': 'Multiple a and b', 'parameters': {'properties': {'a': {'description': 'first number', 'type': 'integer'}, 'b': {'description': 'second number', 'type': 'integer'}}, 'required': ['a', 'b'], 'type': 'object'}}}, {'type': 'function', 'function': {'name': 'divide', 'description': 'Divide a by b', 'parameters': {'properties': {'a': {'description': 'numerator', 'type': 'integer'}, 'b': {'description': 'denominator', 'type': 'integer'}}, 'required': ['a', 'b'], 'type': 'object'}}}]}, config={}, config_factories=[])"
      ]
     },
     "execution_count": 34,
     "metadata": {},
     "output_type": "execute_result"
    }
   ],
   "source": [
    "#Binding tools to the LLM\n",
    "llm_with_tools = llm.bind_tools(tools)\n",
    "llm_with_tools"
   ]
  },
  {
   "cell_type": "code",
   "execution_count": null,
   "id": "c2b7c055",
   "metadata": {},
   "outputs": [
    {
     "data": {
      "image/png": "[encoded data removed]",
      "text/plain": [
       "<IPython.core.display.Image object>"
      ]
     },
     "metadata": {},
     "output_type": "display_data"
    }
   ],
   "source": [
    "#StateGraph for Chatbot with tools\n",
    "from langgraph.graph import StateGraph, START, END\n",
    "from langgraph.prebuilt import ToolNode\n",
    "from langgraph.prebuilt import tools_condition\n",
    "\n",
    "#Node defination\n",
    "def tool_calling_llm(state:State):\n",
    "    return { \"messages\": [llm_with_tools.invoke(state[\"messages\"])]}\n",
    "\n",
    "#Graph\n",
    "graph_builder = StateGraph(State)\n",
    "graph_builder.add_node(\"tool_calling_llm\", tool_calling_llm)\n",
    "graph_builder.add_node(\"tools\", ToolNode(tools))\n",
    "\n",
    "#Edges\n",
    "graph_builder.add_edge(START, \"tool_calling_llm\")\n",
    "graph_builder.add_conditional_edges(\"tool_calling_llm\",\n",
    "                       #If the latest message (result) from assistant is a tool call -> tools_condition routes to tools\n",
    "                       #If the latest message (result) from assistant is not a tool call -> tools_condition routes to end\n",
    "                       tools_condition ) #coditional edge\n",
    "graph_builder.add_edge(\"tools\", END) #after llm execution,\n",
    "\n",
    "#compile the graph\n",
    "graph = graph_builder.compile()\n",
    "\n",
    "from IPython.display import display, Image\n",
    "display(Image(graph.get_graph().draw_mermaid_png())) #visualize the graph\n"
   ]
  },
  {
   "cell_type": "code",
   "execution_count": 18,
   "id": "acd9f19f",
   "metadata": {},
   "outputs": [
    {
     "data": {
      "text/plain": [
       "{'messages': [HumanMessage(content='What is recent Somalia deals ?', additional_kwargs={}, response_metadata={}, id='cefdab65-755a-435c-9bfe-8aa73d87184b'),\n",
       "  AIMessage(content='', additional_kwargs={'tool_calls': [{'id': 'bzxr2v23g', 'function': {'arguments': '{\"query\":\"recent Somalia deals\",\"time_range\":\"day\",\"topic\":\"news\"}', 'name': 'tavily_search'}, 'type': 'function'}]}, response_metadata={'token_usage': {'completion_tokens': 31, 'prompt_tokens': 1855, 'total_tokens': 1886, 'completion_time': 0.049437432, 'prompt_time': 0.12074677, 'queue_time': 0.05326738, 'total_time': 0.170184202}, 'model_name': 'llama-3.1-8b-instant', 'system_fingerprint': 'fp_46fc01befd', 'service_tier': 'on_demand', 'finish_reason': 'tool_calls', 'logprobs': None}, id='run--069bf9af-50f3-45b0-a40f-5cbe5c2e8968-0', tool_calls=[{'name': 'tavily_search', 'args': {'query': 'recent Somalia deals', 'time_range': 'day', 'topic': 'news'}, 'id': 'bzxr2v23g', 'type': 'tool_call'}], usage_metadata={'input_tokens': 1855, 'output_tokens': 31, 'total_tokens': 1886}),\n",
       "  ToolMessage(content='{\"query\": \"recent Somalia deals\", \"follow_up_questions\": null, \"answer\": null, \"images\": [], \"results\": [{\"url\": \"https://ca.sports.yahoo.com/news/nil-best-thing-ever-happen-033605632.html\", \"title\": \"Is NIL the best thing to ever happen to high-school sports—or the worst? One reporter explores - ca.sports.yahoo.com\", \"score\": 1.0, \"published_date\": \"Mon, 25 Aug 2025 03:46:52 GMT\", \"content\": \"This time around, it\\'s through a recent Esquire piece\\xa0called “NIL Goes to High School: Million-Dollar Teen Quarterbacks, Legal Battles, and Fast Cash,” where writer\\xa0Abigail Covington explores the ins and outs of prep athletes now being able to\\xa0profit from their name, image and likeness in most states, just like college stars. The article notes how Lewis has been able to buy himself\\xa0a Tesla Cybertruck, a Dodge Ram TRX, a Lamborghini Urus and\\xa0a Darth Vader chain encrusted with black diamonds, which prompts the question of whether he would have been able to pay for these things without endorsement deals as a high school athlete.\", \"raw_content\": null}, {\"url\": \"https://www.cnet.com/deals/best-labor-day-headphone-deals-early-offers-get-you-nearly-half-off-beats-sony-and-more/\", \"title\": \"Best Labor Day Headphone Deals: Early Offers Get You Nearly Half-Off Beats, Sony and More - CNET\", \"score\": 0.0, \"published_date\": \"Mon, 25 Aug 2025 13:50:22 GMT\", \"content\": \"# Best Labor Day Headphone Deals: Early Offers Get You Nearly Half-Off Beats, Sony and More ## Best headphone deals ## Best earbuds deals Apple\\'s AirPods Pro 2 are among the very best wireless earbuds on the market today. ## Where are the best Labor Day headphone deals? ## How we choose the best Labor Day deals * Best Galaxy S24 Deals * Best Phone * Best iPhone Deals * Best iPhone 15 Deals * Best Wireless Earbuds * Best Headphones * Best Over Ear Headphones * Best Wireless Earbuds and Headphones for Making Calls * Best Noise Canceling Wireless Earbuds * Best Sounding Wireless Earbuds * Best Cheap Wireless Earbuds * Best Wireless Headphones * Best Phone Plan Deals\", \"raw_content\": null}], \"response_time\": 0.26, \"request_id\": \"cafde95e-0da0-4564-a132-62353dbe7b7d\"}', name='tavily_search', id='838ae39c-98d2-4572-af35-54667322edf3', tool_call_id='bzxr2v23g')]}"
      ]
     },
     "execution_count": 18,
     "metadata": {},
     "output_type": "execute_result"
    }
   ],
   "source": [
    "#Chat bot with tool\n",
    "graph.invoke({\"messages\":\"What is recent Somalia deals ?\"})"
   ]
  },
  {
   "cell_type": "code",
   "execution_count": 19,
   "id": "6d08cf3a",
   "metadata": {},
   "outputs": [
    {
     "data": {
      "text/plain": [
       "'{\"query\": \"Somalia deals recent\", \"follow_up_questions\": null, \"answer\": null, \"images\": [], \"results\": [{\"url\": \"https://africa.businessinsider.com/local/lifestyle/ethiopia-alarmed-by-somalia-egypt-arms-shipment-deal/y8k7t1f\", \"title\": \"Ethiopia raises alarm over Somalia-Egypt arms shipment deal, says weapons may end up with terrorists - Business Insider Africa\", \"score\": 0.69622743, \"published_date\": \"Tue, 24 Sep 2024 10:48:57 GMT\", \"content\": \"Ethiopia Alarmed by Somalia-Egypt Arms Shipment Deal | Business Insider Africa Ethiopia has warned Somalia about the recent arms shipment deal with Egypt, warning that the recent supply of ammunition may complicate efforts to resolve potential conflicts in the region. lifestyle Egyptian warship loaded with military equipment berths in Somalia as tensions soar with Ethiopia In a statement published by Ethiopia\\'s state news on Tuesday, Foreign Minister Taye Astke Selassie said that the supply of ammunition by external forces would further destabilise the fragile security in the region. We bring you daily editor picks from the best Business Insider news content so you can stay updated on the latest topics and conversations on the African market, leaders, careers and lifestyle.\", \"raw_content\": null}, {\"url\": \"https://abcnews.go.com/Business/wireStory/somalia-announces-deal-turkey-deter-ethiopias-access-sea-107410465\", \"title\": \"Somalia announces deal with Turkey to deter Ethiopia\\'s access to sea through a breakaway region - ABC News\", \"score\": 0.6366926, \"published_date\": \"Wed, 21 Feb 2024 14:43:18 GMT\", \"content\": \"“For Somalia, it offers crucial support for security and development initiatives, while for Turkey, it represents an opportunity to expand its influence and deepen its engagement in Africa,” said Mohamed H. Gaas, an analyst who heads the think tank Raad Peace Research Institute in Mogadishu, the Somali capital. ___ AP Africa news: https://apnews.com/hub/africa Top Stories Oklahoma death of nonbinary student after in-school fight prompts calls for answers NY AG says she may seize Trump\\'s buildings if he can\\'t pay his $354M civil fraud fine Body of missing 11-year-old Texas girl found: Police \\'Just being stupid\\': Alleged Kansas City gunman details why he shot first Trump owes $87K in interest per day until he pays the fine in his civil fraud case ABC News Live 24/7 coverage of breaking news and live events ABC News Video Live Shows Election 2024 538 Stream on Somalia announces deal with Turkey to deter Ethiopia\\'s access to sea through a breakaway region Somalia has announced a defense deal with Turkey that includes support for the Horn of Africa nation’s sea assets and appears aimed at deterring Ethiopia’s efforts to secure access to the sea by way of the breakaway region of Somaliland MOGADISHU, Somalia -- Somalia announced on Wednesday a defense deal with Turkey that includes support for the Horn of Africa nation\\'s sea assets and appears aimed at deterring Ethiopia\\'s efforts to secure access to the sea by way of the breakaway region of Somaliland.  Turkey is a key player in Somalia, one of several Gulf Arab states jockeying for influence in a country that lies on the shores of the Indian Ocean and the Gulf of Aden — a pathway to the Red Sea.  Somali Prime Minister Hamza Abdi Barre described the defense and economic deal with Turkey as “a historic day for the country,” after the council of ministers approved it. \", \"raw_content\": null}], \"response_time\": 0.36, \"request_id\": \"0f9005d9-a2bd-44ea-8b93-3e49cf664925\"}'"
      ]
     },
     "execution_count": 19,
     "metadata": {},
     "output_type": "execute_result"
    }
   ],
   "source": [
    "response=graph.invoke({\"messages\":\"What is recent Somalia deals ?\"})\n",
    "response[\"messages\"][-1].content"
   ]
  },
  {
   "cell_type": "code",
   "execution_count": 20,
   "id": "344f2844",
   "metadata": {},
   "outputs": [
    {
     "name": "stdout",
     "output_type": "stream",
     "text": [
      "================================\u001b[1m Human Message \u001b[0m=================================\n",
      "\n",
      "What is recent Somalia deals ?\n",
      "==================================\u001b[1m Ai Message \u001b[0m==================================\n",
      "Tool Calls:\n",
      "  tavily_search (aeyb9ewyx)\n",
      " Call ID: aeyb9ewyx\n",
      "  Args:\n",
      "    query: Somalia deals recent\n",
      "    start_date: 2024-02-01\n",
      "    topic: news\n",
      "=================================\u001b[1m Tool Message \u001b[0m=================================\n",
      "Name: tavily_search\n",
      "\n",
      "{\"query\": \"Somalia deals recent\", \"follow_up_questions\": null, \"answer\": null, \"images\": [], \"results\": [{\"url\": \"https://africa.businessinsider.com/local/lifestyle/ethiopia-alarmed-by-somalia-egypt-arms-shipment-deal/y8k7t1f\", \"title\": \"Ethiopia raises alarm over Somalia-Egypt arms shipment deal, says weapons may end up with terrorists - Business Insider Africa\", \"score\": 0.69622743, \"published_date\": \"Tue, 24 Sep 2024 10:48:57 GMT\", \"content\": \"Ethiopia Alarmed by Somalia-Egypt Arms Shipment Deal | Business Insider Africa Ethiopia has warned Somalia about the recent arms shipment deal with Egypt, warning that the recent supply of ammunition may complicate efforts to resolve potential conflicts in the region. lifestyle Egyptian warship loaded with military equipment berths in Somalia as tensions soar with Ethiopia In a statement published by Ethiopia's state news on Tuesday, Foreign Minister Taye Astke Selassie said that the supply of ammunition by external forces would further destabilise the fragile security in the region. We bring you daily editor picks from the best Business Insider news content so you can stay updated on the latest topics and conversations on the African market, leaders, careers and lifestyle.\", \"raw_content\": null}, {\"url\": \"https://abcnews.go.com/Business/wireStory/somalia-announces-deal-turkey-deter-ethiopias-access-sea-107410465\", \"title\": \"Somalia announces deal with Turkey to deter Ethiopia's access to sea through a breakaway region - ABC News\", \"score\": 0.6366926, \"published_date\": \"Wed, 21 Feb 2024 14:43:18 GMT\", \"content\": \"“For Somalia, it offers crucial support for security and development initiatives, while for Turkey, it represents an opportunity to expand its influence and deepen its engagement in Africa,” said Mohamed H. Gaas, an analyst who heads the think tank Raad Peace Research Institute in Mogadishu, the Somali capital. ___ AP Africa news: https://apnews.com/hub/africa Top Stories Oklahoma death of nonbinary student after in-school fight prompts calls for answers NY AG says she may seize Trump's buildings if he can't pay his $354M civil fraud fine Body of missing 11-year-old Texas girl found: Police 'Just being stupid': Alleged Kansas City gunman details why he shot first Trump owes $87K in interest per day until he pays the fine in his civil fraud case ABC News Live 24/7 coverage of breaking news and live events ABC News Video Live Shows Election 2024 538 Stream on Somalia announces deal with Turkey to deter Ethiopia's access to sea through a breakaway region Somalia has announced a defense deal with Turkey that includes support for the Horn of Africa nation’s sea assets and appears aimed at deterring Ethiopia’s efforts to secure access to the sea by way of the breakaway region of Somaliland MOGADISHU, Somalia -- Somalia announced on Wednesday a defense deal with Turkey that includes support for the Horn of Africa nation's sea assets and appears aimed at deterring Ethiopia's efforts to secure access to the sea by way of the breakaway region of Somaliland.  Turkey is a key player in Somalia, one of several Gulf Arab states jockeying for influence in a country that lies on the shores of the Indian Ocean and the Gulf of Aden — a pathway to the Red Sea.  Somali Prime Minister Hamza Abdi Barre described the defense and economic deal with Turkey as “a historic day for the country,” after the council of ministers approved it. \", \"raw_content\": null}], \"response_time\": 0.36, \"request_id\": \"0f9005d9-a2bd-44ea-8b93-3e49cf664925\"}\n"
     ]
    }
   ],
   "source": [
    "for m in response[\"messages\"]:\n",
    "    m.pretty_print()"
   ]
  },
  {
   "cell_type": "code",
   "execution_count": null,
   "id": "e2554da0",
   "metadata": {},
   "outputs": [
    {
     "name": "stdout",
     "output_type": "stream",
     "text": [
      "================================\u001b[1m Human Message \u001b[0m=================================\n",
      "\n",
      "Multiply 12 and 13\n",
      "==================================\u001b[1m Ai Message \u001b[0m==================================\n",
      "Tool Calls:\n",
      "  multiply (036pjjp26)\n",
      " Call ID: 036pjjp26\n",
      "  Args:\n",
      "    a: 12\n",
      "    b: 13\n",
      "=================================\u001b[1m Tool Message \u001b[0m=================================\n",
      "Name: multiply\n",
      "\n",
      "156\n"
     ]
    }
   ],
   "source": [
    "#Testing out custom multiplication tool\n",
    "response=graph.invoke({\"messages\":\"Multiply 12 and 13\"})\n",
    "for m in response[\"messages\"]:\n",
    "    m.pretty_print()"
   ]
  },
  {
   "cell_type": "code",
   "execution_count": 40,
   "id": "86aa636f",
   "metadata": {},
   "outputs": [
    {
     "name": "stdout",
     "output_type": "stream",
     "text": [
      "================================\u001b[1m Human Message \u001b[0m=================================\n",
      "\n",
      "Multiply 12 and 13 and then Divide the answer by 12\n",
      "==================================\u001b[1m Ai Message \u001b[0m==================================\n",
      "Tool Calls:\n",
      "  multiply (yd3v54r4f)\n",
      " Call ID: yd3v54r4f\n",
      "  Args:\n",
      "    a: 12\n",
      "    b: 13\n",
      "  divide (gjmctqnzk)\n",
      " Call ID: gjmctqnzk\n",
      "  Args:\n",
      "    a: 156\n",
      "    b: 12\n",
      "=================================\u001b[1m Tool Message \u001b[0m=================================\n",
      "Name: multiply\n",
      "\n",
      "156\n",
      "=================================\u001b[1m Tool Message \u001b[0m=================================\n",
      "Name: divide\n",
      "\n",
      "13.0\n"
     ]
    }
   ],
   "source": [
    "#Testing out custom multiplication+Division tool\n",
    "response=graph.invoke({\"messages\":\"Multiply 12 and 13 and then Divide the answer by 12\"})\n",
    "for m in response[\"messages\"]:\n",
    "    m.pretty_print()"
   ]
  },
  {
   "cell_type": "markdown",
   "id": "de19f6fc",
   "metadata": {},
   "source": [
    "### ReAct Agent Architecture"
   ]
  },
  {
   "cell_type": "code",
   "execution_count": 41,
   "id": "4cb4fd4c",
   "metadata": {},
   "outputs": [
    {
     "data": {
      "image/png": "[encoded data removed]",
      "text/plain": [
       "<IPython.core.display.Image object>"
      ]
     },
     "metadata": {},
     "output_type": "display_data"
    }
   ],
   "source": [
    "#StateGraph for Chatbot with tools\n",
    "from langgraph.graph import StateGraph, START, END\n",
    "from langgraph.prebuilt import ToolNode\n",
    "from langgraph.prebuilt import tools_condition\n",
    "\n",
    "#Node defination\n",
    "def tool_calling_llm(state:State):\n",
    "    return { \"messages\": [llm_with_tools.invoke(state[\"messages\"])]}\n",
    "\n",
    "#Graph\n",
    "graph_builder = StateGraph(State)\n",
    "graph_builder.add_node(\"tool_calling_llm\", tool_calling_llm)\n",
    "graph_builder.add_node(\"tools\", ToolNode(tools))\n",
    "\n",
    "#Edges\n",
    "graph_builder.add_edge(START, \"tool_calling_llm\")\n",
    "graph_builder.add_conditional_edges(\"tool_calling_llm\",\n",
    "                       #If the latest message (result) from assistant is a tool call -> tools_condition routes to tools\n",
    "                       #If the latest message (result) from assistant is not a tool call -> tools_condition routes to end\n",
    "                       tools_condition ) #coditional edge\n",
    "graph_builder.add_edge(\"tools\", \"tool_calling_llm\") #after llm execution, ReAct architecture\n",
    "\n",
    "#compile the graph\n",
    "graph = graph_builder.compile()\n",
    "\n",
    "from IPython.display import display, Image\n",
    "display(Image(graph.get_graph().draw_mermaid_png())) #visualize the graph\n"
   ]
  },
  {
   "cell_type": "code",
   "execution_count": 44,
   "id": "9ad0eab4",
   "metadata": {},
   "outputs": [
    {
     "name": "stdout",
     "output_type": "stream",
     "text": [
      "================================\u001b[1m Human Message \u001b[0m=================================\n",
      "\n",
      "Whats new in AgenticAi and Multiply 12 and 13 divide the result by 12\n",
      "==================================\u001b[1m Ai Message \u001b[0m==================================\n",
      "Tool Calls:\n",
      "  tavily_search (8jmtssmf8)\n",
      " Call ID: 8jmtssmf8\n",
      "  Args:\n",
      "    query: AgenticAi latest news\n",
      "  divide (n641jbmfg)\n",
      " Call ID: n641jbmfg\n",
      "  Args:\n",
      "    a: 156\n",
      "    b: 12\n",
      "=================================\u001b[1m Tool Message \u001b[0m=================================\n",
      "Name: tavily_search\n",
      "\n",
      "{\"query\": \"AgenticAi latest news\", \"follow_up_questions\": null, \"answer\": null, \"images\": [], \"results\": [{\"url\": \"https://aibusiness.com/generative-ai/agentic-ai\", \"title\": \"Agentic AI recent news | AI Business\", \"content\": \"Most Read: NiCE Acquires Agentic AI Company in $955M Deal; Department of Energy Unveils First Four AI Data Center Sites · Aug 1, 2025 ; NiCE Acquires Agentic AI\", \"score\": 0.77893573, \"raw_content\": null}, {\"url\": \"https://www.forbes.com/topics/agentic-ai/\", \"title\": \"Latest Agentic AI News Today | Trends, Predictions, & Analysis\", \"content\": \"Today's Highlights · Solo entrepreneurs are leveraging AI agents to build billion-dollar businesses faster than anticipated, potentially by 2028. · Agent\", \"score\": 0.734139, \"raw_content\": null}], \"response_time\": 1.03, \"request_id\": \"f742220e-65ae-4121-bcb8-461a350d3d51\"}\n",
      "=================================\u001b[1m Tool Message \u001b[0m=================================\n",
      "Name: divide\n",
      "\n",
      "13.0\n",
      "==================================\u001b[1m Ai Message \u001b[0m==================================\n",
      "\n",
      "The result of multiplying 12 and 13 is 156. When you divide this result by 12, you get 13.0.\n"
     ]
    }
   ],
   "source": [
    "#Testing out custom WebSearch+multiplication+Division tool\n",
    "response=graph.invoke({\"messages\":\"Whats new in AgenticAi and Multiply 12 and 13 divide the result by 12\"})\n",
    "for m in response[\"messages\"]:\n",
    "    m.pretty_print()"
   ]
  }
 ],
 "metadata": {
  "kernelspec": {
   "display_name": ".venv",
   "language": "python",
   "name": "python3"
  },
  "language_info": {
   "codemirror_mode": {
    "name": "ipython",
    "version": 3
   },
   "file_extension": ".py",
   "mimetype": "text/x-python",
   "name": "python",
   "nbconvert_exporter": "python",
   "pygments_lexer": "ipython3",
   "version": "3.12.11"
  }
 },
 "nbformat": 4,
 "nbformat_minor": 5
}
